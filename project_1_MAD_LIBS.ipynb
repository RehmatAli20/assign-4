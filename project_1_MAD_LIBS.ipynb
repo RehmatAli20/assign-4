{
  "nbformat": 4,
  "nbformat_minor": 0,
  "metadata": {
    "colab": {
      "provenance": [],
      "authorship_tag": "ABX9TyP0bfRPWnJ9sx6hVcKV6Jld",
      "include_colab_link": true
    },
    "kernelspec": {
      "name": "python3",
      "display_name": "Python 3"
    },
    "language_info": {
      "name": "python"
    }
  },
  "cells": [
    {
      "cell_type": "markdown",
      "metadata": {
        "id": "view-in-github",
        "colab_type": "text"
      },
      "source": [
        "<a href=\"https://colab.research.google.com/github/RehmatAli20/assign-4/blob/main/project_1_MAD_LIBS.ipynb\" target=\"_parent\"><img src=\"https://colab.research.google.com/assets/colab-badge.svg\" alt=\"Open In Colab\"/></a>"
      ]
    },
    {
      "cell_type": "code",
      "execution_count": null,
      "metadata": {
        "colab": {
          "base_uri": "https://localhost:8080/"
        },
        "id": "dcsofJkqMrvS",
        "outputId": "8ab5b32c-4538-4dc9-d338-335e724d9b30"
      },
      "outputs": [
        {
          "output_type": "stream",
          "name": "stdout",
          "text": [
            "Welcome to Mad Libs! fill in the blanks to create a funny story.\n",
            "\n",
            "enter a name: Rehmat\n",
            "enter a place: karachi\n",
            "enter an animal: cat\n",
            "enter an adjective: fast\n",
            "enter a verb: long\n",
            "enter a food: fish\n",
            "\n",
            "Here's your story:\n",
            "\n",
            "    One day, Rehmat went to karachi. \n",
            "    There, Rehmat saw a fast cat that was trying to long. \n",
            "    Surprised, Rehmat decided to offer it some fish. \n",
            "    The cat happily ate it and became fast again. \n",
            "    It was a great day at karachi!\n",
            "    \n",
            "Do you want to play again? (yes/no): yes\n",
            "Welcome to Mad Libs! fill in the blanks to create a funny story.\n",
            "\n",
            "enter a name: ali\n",
            "enter a place: karachi\n",
            "enter an animal: lion\n",
            "enter an adjective: brown\n",
            "enter a verb: looking\n",
            "enter a food: meat\n",
            "\n",
            "Here's your story:\n",
            "\n",
            "    One day, ali went to karachi. \n",
            "    There, ali saw a brown lion that was trying to looking. \n",
            "    Surprised, ali decided to offer it some meat. \n",
            "    The lion happily ate it and became brown again. \n",
            "    It was a great day at karachi!\n",
            "    \n",
            "Do you want to play again? (yes/no): no\n",
            "Thanks for playing! Goodbye!\n"
          ]
        }
      ],
      "source": [
        "\n",
        "def mad_libs():\n",
        "    print(\"Welcome to Mad Libs! fill in the blanks to create a funny story.\\n\")\n",
        "\n",
        "    # Taking inputs from the user\n",
        "    name = input(\"enter a name: \")\n",
        "    place = input(\"enter a place: \")\n",
        "    animal = input(\"enter an animal: \")\n",
        "    adjective = input(\"enter an adjective: \")\n",
        "    verb = input(\"enter a verb: \")\n",
        "    food = input(\"enter a food: \")\n",
        "\n",
        "    # Story template\n",
        "    story = f\"\"\"\n",
        "    One day, {name} went to {place}.\n",
        "    There, {name} saw a {adjective} {animal} that was trying to {verb}.\n",
        "    Surprised, {name} decided to offer it some {food}.\n",
        "    The {animal} happily ate it and became {adjective} again.\n",
        "    It was a great day at {place}!\n",
        "    \"\"\"\n",
        "\n",
        " # Displaying the final story\n",
        "    print(\"\\nHere's your story:\")\n",
        "    print(story)\n",
        "\n",
        "# Run the game in a loop\n",
        "while True:\n",
        "    mad_libs()\n",
        "    play_again = input(\"Do you want to play again? (yes/no): \").strip().lower()\n",
        "    if play_again != \"yes\":\n",
        "        print(\"Thanks for playing! Goodbye!\")\n",
        "        break\n"
      ]
    },
    {
      "cell_type": "code",
      "source": [],
      "metadata": {
        "id": "yoapgZZdOVPo"
      },
      "execution_count": null,
      "outputs": []
    }
  ]
}